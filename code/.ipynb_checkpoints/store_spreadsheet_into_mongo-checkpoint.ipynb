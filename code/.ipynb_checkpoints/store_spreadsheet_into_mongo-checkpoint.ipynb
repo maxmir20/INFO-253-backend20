{
 "cells": [
  {
   "cell_type": "code",
   "execution_count": 9,
   "metadata": {},
   "outputs": [],
   "source": [
    "import pymongo\n",
    "import gspread\n",
    "from oauth2client.service_account import ServiceAccountCredentials\n",
    "from pprint import pprint"
   ]
  },
  {
   "cell_type": "code",
   "execution_count": 4,
   "metadata": {},
   "outputs": [
    {
     "name": "stdout",
     "output_type": "stream",
     "text": [
      "{'Dinner: Please check all the items that you would like in your meal box. ': 'Baked '\n",
      "                                                                              'potato '\n",
      "                                                                              '(V/GF), '\n",
      "                                                                              'Quinoa '\n",
      "                                                                              'vegetable '\n",
      "                                                                              'soup '\n",
      "                                                                              '(V/GF), '\n",
      "                                                                              'Dessert '\n",
      "                                                                              'if '\n",
      "                                                                              'available',\n",
      " 'Do you have any other notes / specifications?': 'test',\n",
      " 'Email Address': 'maxmir@berkeley.edu',\n",
      " 'Lunch: Please check all the items that you would like in your meal box.': 'Broccoli '\n",
      "                                                                            '(V/GF), '\n",
      "                                                                            'Korean '\n",
      "                                                                            'pork '\n",
      "                                                                            'chops, '\n",
      "                                                                            'Jerk '\n",
      "                                                                            'chicken '\n",
      "                                                                            '(GF)',\n",
      " 'Name': 'Test1',\n",
      " 'Numbers on the back of your Cal1Card': 987,\n",
      " 'Phone Number (to contact if needed)': 1111111111,\n",
      " 'Please mark ALL allergies/sensitivities (or list additional below).': 'Dairy',\n",
      " 'Please mark all dietary restrictions. ': 'Vegetarian',\n",
      " 'Please select a drink. (**could just do bottled water)': 'Coffee',\n",
      " 'Room Number': 308,\n",
      " 'Timestamp': '3/24/2020 18:19:39',\n",
      " 'Today, I would like:': 'Lunch only'}\n",
      "{'Dinner: Please check all the items that you would like in your meal box. ': 'Baked '\n",
      "                                                                              'potato '\n",
      "                                                                              '(V/GF), '\n",
      "                                                                              'Quinoa '\n",
      "                                                                              'vegetable '\n",
      "                                                                              'soup '\n",
      "                                                                              '(V/GF), '\n",
      "                                                                              'Dessert '\n",
      "                                                                              'if '\n",
      "                                                                              'available',\n",
      " 'Do you have any other notes / specifications?': 'test',\n",
      " 'Email Address': 'maxmir@berkeley.edu',\n",
      " 'Lunch: Please check all the items that you would like in your meal box.': 'Broccoli '\n",
      "                                                                            '(V/GF), '\n",
      "                                                                            'Korean '\n",
      "                                                                            'pork '\n",
      "                                                                            'chops, '\n",
      "                                                                            'Jerk '\n",
      "                                                                            'chicken '\n",
      "                                                                            '(GF)',\n",
      " 'Name': 'Test2',\n",
      " 'Numbers on the back of your Cal1Card': 987,\n",
      " 'Phone Number (to contact if needed)': 1111111111,\n",
      " 'Please mark ALL allergies/sensitivities (or list additional below).': 'Dairy',\n",
      " 'Please mark all dietary restrictions. ': 'Vegetarian',\n",
      " 'Please select a drink. (**could just do bottled water)': 'Coffee',\n",
      " 'Room Number': 308,\n",
      " 'Timestamp': '3/25/2020 18:19:39',\n",
      " 'Today, I would like:': 'Lunch only'}\n"
     ]
    }
   ],
   "source": [
    "scope = ['https://spreadsheets.google.com/feeds', 'https://www.googleapis.com/auth/drive']\n",
    "creds = ServiceAccountCredentials.from_json_keyfile_name('Backend Final Project-credential.json', scope)\n",
    "client = gspread.authorize(creds)\n",
    "\n",
    "sheet = client.open('I-House Mastersheet').get_worksheet(0)\n",
    "\n",
    "allData = sheet.get_all_records()\n",
    "for item in allData:\n",
    "    pprint(item)"
   ]
  },
  {
   "cell_type": "code",
   "execution_count": 14,
   "metadata": {},
   "outputs": [],
   "source": [
    "myclient = pymongo.MongoClient(\"mongodb://localhost:27017/\")\n",
    "mydb = myclient[\"meal_order_db\"]\n",
    "mycol = mydb[\"meal_order\"]"
   ]
  },
  {
   "cell_type": "code",
   "execution_count": 18,
   "metadata": {},
   "outputs": [],
   "source": [
    "for record in allData:\n",
    "    # remove key and value with '.' and create a new key without '.' with the same value\n",
    "    for key, value in record.items():\n",
    "        if \".\" in key:\n",
    "            del record[key]\n",
    "            new_key = key.replace(\".\", \"\")\n",
    "            record[new_key] = value\n",
    "    mycol.insert_one(record)"
   ]
  },
  {
   "cell_type": "code",
   "execution_count": 24,
   "metadata": {},
   "outputs": [
    {
     "name": "stdout",
     "output_type": "stream",
     "text": [
      "{'Dinner: Please check all the items that you would like in your meal box ': 'Baked '\n",
      "                                                                             'potato '\n",
      "                                                                             '(V/GF), '\n",
      "                                                                             'Quinoa '\n",
      "                                                                             'vegetable '\n",
      "                                                                             'soup '\n",
      "                                                                             '(V/GF), '\n",
      "                                                                             'Dessert '\n",
      "                                                                             'if '\n",
      "                                                                             'available',\n",
      " 'Do you have any other notes / specifications?': 'test',\n",
      " 'Email Address': 'maxmir@berkeley.edu',\n",
      " 'Lunch: Please check all the items that you would like in your meal box': 'Broccoli '\n",
      "                                                                           '(V/GF), '\n",
      "                                                                           'Korean '\n",
      "                                                                           'pork '\n",
      "                                                                           'chops, '\n",
      "                                                                           'Jerk '\n",
      "                                                                           'chicken '\n",
      "                                                                           '(GF)',\n",
      " 'Name': 'Test1',\n",
      " 'Numbers on the back of your Cal1Card': 987,\n",
      " 'Phone Number (to contact if needed)': 1111111111,\n",
      " 'Please mark ALL allergies/sensitivities (or list additional below)': 'Dairy',\n",
      " 'Please mark all dietary restrictions ': 'Vegetarian',\n",
      " 'Please select a drink (**could just do bottled water)': 'Coffee',\n",
      " 'Room Number': 308,\n",
      " 'Timestamp': '3/24/2020 18:19:39',\n",
      " 'Today, I would like:': 'Lunch only',\n",
      " '_id': ObjectId('5e9cd526d08766690ed0bc06')}\n",
      "{'Dinner: Please check all the items that you would like in your meal box ': 'Baked '\n",
      "                                                                             'potato '\n",
      "                                                                             '(V/GF), '\n",
      "                                                                             'Quinoa '\n",
      "                                                                             'vegetable '\n",
      "                                                                             'soup '\n",
      "                                                                             '(V/GF), '\n",
      "                                                                             'Dessert '\n",
      "                                                                             'if '\n",
      "                                                                             'available',\n",
      " 'Do you have any other notes / specifications?': 'test',\n",
      " 'Email Address': 'maxmir@berkeley.edu',\n",
      " 'Lunch: Please check all the items that you would like in your meal box': 'Broccoli '\n",
      "                                                                           '(V/GF), '\n",
      "                                                                           'Korean '\n",
      "                                                                           'pork '\n",
      "                                                                           'chops, '\n",
      "                                                                           'Jerk '\n",
      "                                                                           'chicken '\n",
      "                                                                           '(GF)',\n",
      " 'Name': 'Test2',\n",
      " 'Numbers on the back of your Cal1Card': 987,\n",
      " 'Phone Number (to contact if needed)': 1111111111,\n",
      " 'Please mark ALL allergies/sensitivities (or list additional below)': 'Dairy',\n",
      " 'Please mark all dietary restrictions ': 'Vegetarian',\n",
      " 'Please select a drink (**could just do bottled water)': 'Coffee',\n",
      " 'Room Number': 308,\n",
      " 'Timestamp': '3/25/2020 18:19:39',\n",
      " 'Today, I would like:': 'Lunch only',\n",
      " '_id': ObjectId('5e9cd731d08766690ed0bc07')}\n"
     ]
    }
   ],
   "source": [
    "for item in mydb.meal_order.find():\n",
    "    pprint(item)"
   ]
  },
  {
   "cell_type": "code",
   "execution_count": null,
   "metadata": {},
   "outputs": [],
   "source": []
  }
 ],
 "metadata": {
  "kernelspec": {
   "display_name": "Python 3",
   "language": "python",
   "name": "python3"
  },
  "language_info": {
   "codemirror_mode": {
    "name": "ipython",
    "version": 3
   },
   "file_extension": ".py",
   "mimetype": "text/x-python",
   "name": "python",
   "nbconvert_exporter": "python",
   "pygments_lexer": "ipython3",
   "version": "3.7.6"
  }
 },
 "nbformat": 4,
 "nbformat_minor": 2
}
